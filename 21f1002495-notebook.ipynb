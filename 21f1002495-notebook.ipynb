{
 "cells": [
  {
   "cell_type": "code",
   "execution_count": 1,
   "id": "01d357c8",
   "metadata": {
    "_cell_guid": "b1076dfc-b9ad-4769-8c92-a6c4dae69d19",
    "_uuid": "8f2839f25d086af736a60e9eeb907d3b93b6e0e5",
    "execution": {
     "iopub.execute_input": "2023-03-25T08:41:38.968874Z",
     "iopub.status.busy": "2023-03-25T08:41:38.968200Z",
     "iopub.status.idle": "2023-03-25T08:41:38.980475Z",
     "shell.execute_reply": "2023-03-25T08:41:38.979639Z"
    },
    "papermill": {
     "duration": 0.028713,
     "end_time": "2023-03-25T08:41:38.982857",
     "exception": false,
     "start_time": "2023-03-25T08:41:38.954144",
     "status": "completed"
    },
    "tags": []
   },
   "outputs": [
    {
     "name": "stdout",
     "output_type": "stream",
     "text": [
      "/kaggle/input/e-commerce-shoppers-behaviour-understanding/test_data_v2.csv\n",
      "/kaggle/input/e-commerce-shoppers-behaviour-understanding/train_data_v2.csv\n",
      "/kaggle/input/e-commerce-shoppers-behaviour-understanding/sample.csv\n"
     ]
    }
   ],
   "source": [
    "# This Python 3 environment comes with many helpful analytics libraries installed\n",
    "# It is defined by the kaggle/python Docker image: https://github.com/kaggle/docker-python\n",
    "# For example, here's several helpful packages to load\n",
    "\n",
    "import numpy as np # linear algebra\n",
    "import pandas as pd # data processing, CSV file I/O (e.g. pd.read_csv)\n",
    "\n",
    "# Input data files are available in the read-only \"../input/\" directory\n",
    "# For example, running this (by clicking run or pressing Shift+Enter) will list all files under the input directory\n",
    "\n",
    "import os\n",
    "for dirname, _, filenames in os.walk('/kaggle/input'):\n",
    "    for filename in filenames:\n",
    "        print(os.path.join(dirname, filename))\n",
    "\n",
    "# You can write up to 20GB to the current directory (/kaggle/working/) that gets preserved as output when you create a version using \"Save & Run All\" \n",
    "# You can also write temporary files to /kaggle/temp/, but they won't be saved outside of the current session"
   ]
  },
  {
   "cell_type": "code",
   "execution_count": null,
   "id": "f937ca48",
   "metadata": {
    "papermill": {
     "duration": 0.012408,
     "end_time": "2023-03-25T08:41:39.007436",
     "exception": false,
     "start_time": "2023-03-25T08:41:38.995028",
     "status": "completed"
    },
    "tags": []
   },
   "outputs": [],
   "source": []
  },
  {
   "cell_type": "code",
   "execution_count": null,
   "id": "01b7d1fb",
   "metadata": {
    "papermill": {
     "duration": 0.014247,
     "end_time": "2023-03-25T08:41:39.032825",
     "exception": false,
     "start_time": "2023-03-25T08:41:39.018578",
     "status": "completed"
    },
    "tags": []
   },
   "outputs": [],
   "source": []
  },
  {
   "cell_type": "code",
   "execution_count": 2,
   "id": "f0dcce38",
   "metadata": {
    "execution": {
     "iopub.execute_input": "2023-03-25T08:41:39.060127Z",
     "iopub.status.busy": "2023-03-25T08:41:39.059699Z",
     "iopub.status.idle": "2023-03-25T08:41:40.162096Z",
     "shell.execute_reply": "2023-03-25T08:41:40.161031Z"
    },
    "papermill": {
     "duration": 1.117836,
     "end_time": "2023-03-25T08:41:40.164241",
     "exception": false,
     "start_time": "2023-03-25T08:41:39.046405",
     "status": "completed"
    },
    "tags": []
   },
   "outputs": [],
   "source": [
    "\n",
    "import matplotlib.pyplot as plt\n",
    "import seaborn as sns\n",
    "from sklearn.dummy import DummyClassifier"
   ]
  },
  {
   "cell_type": "code",
   "execution_count": 3,
   "id": "2f4cb4d5",
   "metadata": {
    "execution": {
     "iopub.execute_input": "2023-03-25T08:41:40.188029Z",
     "iopub.status.busy": "2023-03-25T08:41:40.187694Z",
     "iopub.status.idle": "2023-03-25T08:41:40.191695Z",
     "shell.execute_reply": "2023-03-25T08:41:40.190688Z"
    },
    "papermill": {
     "duration": 0.018622,
     "end_time": "2023-03-25T08:41:40.193967",
     "exception": false,
     "start_time": "2023-03-25T08:41:40.175345",
     "status": "completed"
    },
    "tags": []
   },
   "outputs": [],
   "source": [
    "#df = pd.read_csv(\"/kaggle/input/e-commerce-shoppers-behaviour-understanding/sample.csv\")"
   ]
  },
  {
   "cell_type": "code",
   "execution_count": 4,
   "id": "f3681b04",
   "metadata": {
    "execution": {
     "iopub.execute_input": "2023-03-25T08:41:40.217937Z",
     "iopub.status.busy": "2023-03-25T08:41:40.217568Z",
     "iopub.status.idle": "2023-03-25T08:41:40.221100Z",
     "shell.execute_reply": "2023-03-25T08:41:40.220388Z"
    },
    "papermill": {
     "duration": 0.017459,
     "end_time": "2023-03-25T08:41:40.222758",
     "exception": false,
     "start_time": "2023-03-25T08:41:40.205299",
     "status": "completed"
    },
    "tags": []
   },
   "outputs": [],
   "source": [
    "#df.head()"
   ]
  },
  {
   "cell_type": "code",
   "execution_count": 5,
   "id": "9957eb66",
   "metadata": {
    "execution": {
     "iopub.execute_input": "2023-03-25T08:41:40.246844Z",
     "iopub.status.busy": "2023-03-25T08:41:40.246301Z",
     "iopub.status.idle": "2023-03-25T08:41:40.249930Z",
     "shell.execute_reply": "2023-03-25T08:41:40.249022Z"
    },
    "papermill": {
     "duration": 0.018125,
     "end_time": "2023-03-25T08:41:40.252170",
     "exception": false,
     "start_time": "2023-03-25T08:41:40.234045",
     "status": "completed"
    },
    "tags": []
   },
   "outputs": [],
   "source": [
    "#print(df.shape)\n",
    "#print(df.describe())"
   ]
  },
  {
   "cell_type": "code",
   "execution_count": 6,
   "id": "92a5e6da",
   "metadata": {
    "execution": {
     "iopub.execute_input": "2023-03-25T08:41:40.276008Z",
     "iopub.status.busy": "2023-03-25T08:41:40.275454Z",
     "iopub.status.idle": "2023-03-25T08:41:40.278892Z",
     "shell.execute_reply": "2023-03-25T08:41:40.278030Z"
    },
    "papermill": {
     "duration": 0.017219,
     "end_time": "2023-03-25T08:41:40.280555",
     "exception": false,
     "start_time": "2023-03-25T08:41:40.263336",
     "status": "completed"
    },
    "tags": []
   },
   "outputs": [],
   "source": [
    "#X = df.drop(['Made_Purchase'], axis = 1)\n",
    "#Y = df[\"Made_Purchase\"]\n",
    "#print(X.shape)\n",
    "#print(Y.shape)"
   ]
  },
  {
   "cell_type": "code",
   "execution_count": 7,
   "id": "49958701",
   "metadata": {
    "execution": {
     "iopub.execute_input": "2023-03-25T08:41:40.304721Z",
     "iopub.status.busy": "2023-03-25T08:41:40.303844Z",
     "iopub.status.idle": "2023-03-25T08:41:40.307409Z",
     "shell.execute_reply": "2023-03-25T08:41:40.306794Z"
    },
    "papermill": {
     "duration": 0.017353,
     "end_time": "2023-03-25T08:41:40.309058",
     "exception": false,
     "start_time": "2023-03-25T08:41:40.291705",
     "status": "completed"
    },
    "tags": []
   },
   "outputs": [],
   "source": [
    "#X.isnull().values.any()\n",
    "#X.isnull().sum()\n",
    "#X.isnull().sum().sum()"
   ]
  },
  {
   "cell_type": "code",
   "execution_count": 8,
   "id": "57265a8e",
   "metadata": {
    "execution": {
     "iopub.execute_input": "2023-03-25T08:41:40.332924Z",
     "iopub.status.busy": "2023-03-25T08:41:40.332355Z",
     "iopub.status.idle": "2023-03-25T08:41:40.335553Z",
     "shell.execute_reply": "2023-03-25T08:41:40.334922Z"
    },
    "papermill": {
     "duration": 0.016998,
     "end_time": "2023-03-25T08:41:40.337190",
     "exception": false,
     "start_time": "2023-03-25T08:41:40.320192",
     "status": "completed"
    },
    "tags": []
   },
   "outputs": [],
   "source": [
    "#df = df.dropna(axis=1)\n",
    "#df = df.reset_index(drop=True)"
   ]
  },
  {
   "cell_type": "code",
   "execution_count": 9,
   "id": "f86faac9",
   "metadata": {
    "execution": {
     "iopub.execute_input": "2023-03-25T08:41:40.361121Z",
     "iopub.status.busy": "2023-03-25T08:41:40.360554Z",
     "iopub.status.idle": "2023-03-25T08:41:40.364357Z",
     "shell.execute_reply": "2023-03-25T08:41:40.363264Z"
    },
    "papermill": {
     "duration": 0.018207,
     "end_time": "2023-03-25T08:41:40.366535",
     "exception": false,
     "start_time": "2023-03-25T08:41:40.348328",
     "status": "completed"
    },
    "tags": []
   },
   "outputs": [],
   "source": [
    "#X.isnull().sum().sum()"
   ]
  },
  {
   "cell_type": "code",
   "execution_count": 10,
   "id": "a8f70174",
   "metadata": {
    "execution": {
     "iopub.execute_input": "2023-03-25T08:41:40.390595Z",
     "iopub.status.busy": "2023-03-25T08:41:40.390241Z",
     "iopub.status.idle": "2023-03-25T08:41:40.394647Z",
     "shell.execute_reply": "2023-03-25T08:41:40.393116Z"
    },
    "papermill": {
     "duration": 0.018983,
     "end_time": "2023-03-25T08:41:40.396584",
     "exception": false,
     "start_time": "2023-03-25T08:41:40.377601",
     "status": "completed"
    },
    "tags": []
   },
   "outputs": [],
   "source": [
    "#from sklearn.impute import SimpleImputer\n",
    "#my_imputer = SimpleImputer()\n",
    "#data_with_imputed_values = my_imputer.fit_transform(df)"
   ]
  },
  {
   "cell_type": "code",
   "execution_count": 11,
   "id": "ed471210",
   "metadata": {
    "execution": {
     "iopub.execute_input": "2023-03-25T08:41:40.420761Z",
     "iopub.status.busy": "2023-03-25T08:41:40.420225Z",
     "iopub.status.idle": "2023-03-25T08:41:40.424088Z",
     "shell.execute_reply": "2023-03-25T08:41:40.423256Z"
    },
    "papermill": {
     "duration": 0.017971,
     "end_time": "2023-03-25T08:41:40.425956",
     "exception": false,
     "start_time": "2023-03-25T08:41:40.407985",
     "status": "completed"
    },
    "tags": []
   },
   "outputs": [],
   "source": [
    "#dummy_clf = DummyClassifier(strategy=\"most_frequent\")\n",
    "#dummy_clf.fit(X,Y)\n",
    "#prediction= dummy_clf.predict(X)"
   ]
  },
  {
   "cell_type": "code",
   "execution_count": 12,
   "id": "401b4f4e",
   "metadata": {
    "execution": {
     "iopub.execute_input": "2023-03-25T08:41:40.449525Z",
     "iopub.status.busy": "2023-03-25T08:41:40.449167Z",
     "iopub.status.idle": "2023-03-25T08:41:40.453945Z",
     "shell.execute_reply": "2023-03-25T08:41:40.452841Z"
    },
    "papermill": {
     "duration": 0.018653,
     "end_time": "2023-03-25T08:41:40.455793",
     "exception": false,
     "start_time": "2023-03-25T08:41:40.437140",
     "status": "completed"
    },
    "tags": []
   },
   "outputs": [],
   "source": [
    "#dummy_clf.score(X, Y)"
   ]
  },
  {
   "cell_type": "code",
   "execution_count": 13,
   "id": "db46d10a",
   "metadata": {
    "execution": {
     "iopub.execute_input": "2023-03-25T08:41:40.478885Z",
     "iopub.status.busy": "2023-03-25T08:41:40.478573Z",
     "iopub.status.idle": "2023-03-25T08:41:40.482650Z",
     "shell.execute_reply": "2023-03-25T08:41:40.481687Z"
    },
    "papermill": {
     "duration": 0.018557,
     "end_time": "2023-03-25T08:41:40.485322",
     "exception": false,
     "start_time": "2023-03-25T08:41:40.466765",
     "status": "completed"
    },
    "tags": []
   },
   "outputs": [],
   "source": [
    "#submission = pd.DataFrame(columns = ['id','Made_Purchase'])\n",
    "#submission['id']=[i for i in range(len(prediction))]\n",
    "#submission['Made_Purchase'] = prediction\n",
    "#submission.to_csv('submission.csv', index= False)"
   ]
  },
  {
   "cell_type": "code",
   "execution_count": 14,
   "id": "feb36ba4",
   "metadata": {
    "execution": {
     "iopub.execute_input": "2023-03-25T08:41:40.509833Z",
     "iopub.status.busy": "2023-03-25T08:41:40.508706Z",
     "iopub.status.idle": "2023-03-25T08:41:40.512883Z",
     "shell.execute_reply": "2023-03-25T08:41:40.512320Z"
    },
    "papermill": {
     "duration": 0.01787,
     "end_time": "2023-03-25T08:41:40.514574",
     "exception": false,
     "start_time": "2023-03-25T08:41:40.496704",
     "status": "completed"
    },
    "tags": []
   },
   "outputs": [],
   "source": [
    "#submission.head()"
   ]
  },
  {
   "cell_type": "code",
   "execution_count": 15,
   "id": "2dfd16c8",
   "metadata": {
    "execution": {
     "iopub.execute_input": "2023-03-25T08:41:40.539040Z",
     "iopub.status.busy": "2023-03-25T08:41:40.537807Z",
     "iopub.status.idle": "2023-03-25T08:41:40.613023Z",
     "shell.execute_reply": "2023-03-25T08:41:40.612238Z"
    },
    "papermill": {
     "duration": 0.089535,
     "end_time": "2023-03-25T08:41:40.615201",
     "exception": false,
     "start_time": "2023-03-25T08:41:40.525666",
     "status": "completed"
    },
    "tags": []
   },
   "outputs": [],
   "source": [
    "df = pd.read_csv(\"/kaggle/input/e-commerce-shoppers-behaviour-understanding/train_data_v2.csv\")"
   ]
  },
  {
   "cell_type": "code",
   "execution_count": 16,
   "id": "f4b3d255",
   "metadata": {
    "execution": {
     "iopub.execute_input": "2023-03-25T08:41:40.639227Z",
     "iopub.status.busy": "2023-03-25T08:41:40.638861Z",
     "iopub.status.idle": "2023-03-25T08:41:40.643243Z",
     "shell.execute_reply": "2023-03-25T08:41:40.642119Z"
    },
    "papermill": {
     "duration": 0.019152,
     "end_time": "2023-03-25T08:41:40.645605",
     "exception": false,
     "start_time": "2023-03-25T08:41:40.626453",
     "status": "completed"
    },
    "tags": []
   },
   "outputs": [],
   "source": [
    "# Handle missing values using interpolation\n",
    "#df.interpolate(method='zero', inplace=True)"
   ]
  },
  {
   "cell_type": "code",
   "execution_count": 17,
   "id": "4d0c89c2",
   "metadata": {
    "execution": {
     "iopub.execute_input": "2023-03-25T08:41:40.669363Z",
     "iopub.status.busy": "2023-03-25T08:41:40.668979Z",
     "iopub.status.idle": "2023-03-25T08:41:40.684803Z",
     "shell.execute_reply": "2023-03-25T08:41:40.683602Z"
    },
    "papermill": {
     "duration": 0.029872,
     "end_time": "2023-03-25T08:41:40.686777",
     "exception": false,
     "start_time": "2023-03-25T08:41:40.656905",
     "status": "completed"
    },
    "tags": []
   },
   "outputs": [
    {
     "data": {
      "text/plain": [
       "2923"
      ]
     },
     "execution_count": 17,
     "metadata": {},
     "output_type": "execute_result"
    }
   ],
   "source": [
    "\n",
    "df.isnull().sum().sum()"
   ]
  },
  {
   "cell_type": "code",
   "execution_count": 18,
   "id": "ca2dff76",
   "metadata": {
    "execution": {
     "iopub.execute_input": "2023-03-25T08:41:40.711054Z",
     "iopub.status.busy": "2023-03-25T08:41:40.710668Z",
     "iopub.status.idle": "2023-03-25T08:41:40.727601Z",
     "shell.execute_reply": "2023-03-25T08:41:40.726481Z"
    },
    "papermill": {
     "duration": 0.031957,
     "end_time": "2023-03-25T08:41:40.730220",
     "exception": false,
     "start_time": "2023-03-25T08:41:40.698263",
     "status": "completed"
    },
    "tags": []
   },
   "outputs": [],
   "source": [
    "#dividing the data into numerical and categorical\n",
    "numerical = df.select_dtypes(include = np.number)\n",
    "categorical = df.select_dtypes(exclude = np.number)"
   ]
  },
  {
   "cell_type": "code",
   "execution_count": 19,
   "id": "eaa6d0aa",
   "metadata": {
    "execution": {
     "iopub.execute_input": "2023-03-25T08:41:40.754144Z",
     "iopub.status.busy": "2023-03-25T08:41:40.753731Z",
     "iopub.status.idle": "2023-03-25T08:41:40.758409Z",
     "shell.execute_reply": "2023-03-25T08:41:40.757342Z"
    },
    "papermill": {
     "duration": 0.018619,
     "end_time": "2023-03-25T08:41:40.760184",
     "exception": false,
     "start_time": "2023-03-25T08:41:40.741565",
     "status": "completed"
    },
    "tags": []
   },
   "outputs": [],
   "source": [
    "# Handle missing values using interpolation\n",
    "#df.interpolate(method='nearest', columns = categorical.columns, inplace=True)"
   ]
  },
  {
   "cell_type": "code",
   "execution_count": 20,
   "id": "87fdc0f2",
   "metadata": {
    "execution": {
     "iopub.execute_input": "2023-03-25T08:41:40.783863Z",
     "iopub.status.busy": "2023-03-25T08:41:40.783545Z",
     "iopub.status.idle": "2023-03-25T08:41:40.787484Z",
     "shell.execute_reply": "2023-03-25T08:41:40.786616Z"
    },
    "papermill": {
     "duration": 0.018217,
     "end_time": "2023-03-25T08:41:40.789584",
     "exception": false,
     "start_time": "2023-03-25T08:41:40.771367",
     "status": "completed"
    },
    "tags": []
   },
   "outputs": [],
   "source": [
    "#remove the null values from the data set and replace them with the most frequent of the column\n",
    "#df = df.fillna(df.mode().iloc[0])\n",
    "\n",
    "#----------------------------------------------\n",
    "#from sklearn.impute import SimpleImputer\n",
    "# Create an instance of SimpleImputer with strategy='mean'\n",
    "#imputer = SimpleImputer(strategy='mean')\n",
    "#df_imputed = imputer.fit_transform(df)\n",
    "\n",
    "# Convert the NumPy array back to a Pandas DataFrame  as maybe simpleimputer might give numpy output\n",
    "#df_imputed = pd.DataFrame(df_imputed, columns=df.columns)\n",
    "\n",
    "#------\n",
    "#from sklearn.impute import KNNImputer\n",
    "\n",
    "# Create KNN imputer object\n",
    "#imputer = KNNImputer(n_neighbors=5, weights='uniform')\n",
    "\n",
    "# Impute missing values\n",
    "#X_imputed = imputer.fit_transform(X)"
   ]
  },
  {
   "cell_type": "code",
   "execution_count": 21,
   "id": "347e3e3c",
   "metadata": {
    "execution": {
     "iopub.execute_input": "2023-03-25T08:41:40.813241Z",
     "iopub.status.busy": "2023-03-25T08:41:40.812884Z",
     "iopub.status.idle": "2023-03-25T08:41:40.817265Z",
     "shell.execute_reply": "2023-03-25T08:41:40.815913Z"
    },
    "papermill": {
     "duration": 0.018978,
     "end_time": "2023-03-25T08:41:40.819694",
     "exception": false,
     "start_time": "2023-03-25T08:41:40.800716",
     "status": "completed"
    },
    "tags": []
   },
   "outputs": [],
   "source": [
    "# Handle missing values using interpolation\n",
    "#df.interpolate(method='polynomial', order = 9, inplace=True)"
   ]
  },
  {
   "cell_type": "code",
   "execution_count": 22,
   "id": "fa5ed87d",
   "metadata": {
    "execution": {
     "iopub.execute_input": "2023-03-25T08:41:40.844448Z",
     "iopub.status.busy": "2023-03-25T08:41:40.844081Z",
     "iopub.status.idle": "2023-03-25T08:41:40.855258Z",
     "shell.execute_reply": "2023-03-25T08:41:40.854193Z"
    },
    "papermill": {
     "duration": 0.026065,
     "end_time": "2023-03-25T08:41:40.857201",
     "exception": false,
     "start_time": "2023-03-25T08:41:40.831136",
     "status": "completed"
    },
    "tags": []
   },
   "outputs": [
    {
     "data": {
      "text/plain": [
       "2923"
      ]
     },
     "execution_count": 22,
     "metadata": {},
     "output_type": "execute_result"
    }
   ],
   "source": [
    "df.isnull().sum().sum()"
   ]
  },
  {
   "cell_type": "code",
   "execution_count": 23,
   "id": "88489a4d",
   "metadata": {
    "execution": {
     "iopub.execute_input": "2023-03-25T08:41:40.881274Z",
     "iopub.status.busy": "2023-03-25T08:41:40.880895Z",
     "iopub.status.idle": "2023-03-25T08:41:41.106944Z",
     "shell.execute_reply": "2023-03-25T08:41:41.105964Z"
    },
    "papermill": {
     "duration": 0.241035,
     "end_time": "2023-03-25T08:41:41.109449",
     "exception": false,
     "start_time": "2023-03-25T08:41:40.868414",
     "status": "completed"
    },
    "tags": []
   },
   "outputs": [],
   "source": [
    "\n",
    "##trying interpolation\n",
    "#numerical simple imputer\n",
    "from sklearn.impute import SimpleImputer\n",
    "imputer = SimpleImputer(strategy='mean')\n",
    "imputer.fit(numerical)\n",
    "imputed_numerical = imputer.transform(numerical)\n",
    "imputed_numerical = pd.DataFrame(imputed_numerical, columns=numerical.columns)\n",
    "\n",
    "#categorical imputer\n",
    "from sklearn.impute import SimpleImputer\n",
    "imputer = SimpleImputer(strategy='most_frequent')\n",
    "imputer.fit(categorical)\n",
    "imputed_categorical = imputer.transform(categorical)\n",
    "imputed_categorical = pd.DataFrame(imputed_categorical, columns=categorical.columns)\n"
   ]
  },
  {
   "cell_type": "code",
   "execution_count": 24,
   "id": "ff8462b4",
   "metadata": {
    "execution": {
     "iopub.execute_input": "2023-03-25T08:41:41.133410Z",
     "iopub.status.busy": "2023-03-25T08:41:41.133050Z",
     "iopub.status.idle": "2023-03-25T08:41:41.162642Z",
     "shell.execute_reply": "2023-03-25T08:41:41.161660Z"
    },
    "papermill": {
     "duration": 0.04383,
     "end_time": "2023-03-25T08:41:41.164589",
     "exception": false,
     "start_time": "2023-03-25T08:41:41.120759",
     "status": "completed"
    },
    "tags": []
   },
   "outputs": [
    {
     "data": {
      "text/html": [
       "<div>\n",
       "<style scoped>\n",
       "    .dataframe tbody tr th:only-of-type {\n",
       "        vertical-align: middle;\n",
       "    }\n",
       "\n",
       "    .dataframe tbody tr th {\n",
       "        vertical-align: top;\n",
       "    }\n",
       "\n",
       "    .dataframe thead th {\n",
       "        text-align: right;\n",
       "    }\n",
       "</style>\n",
       "<table border=\"1\" class=\"dataframe\">\n",
       "  <thead>\n",
       "    <tr style=\"text-align: right;\">\n",
       "      <th></th>\n",
       "      <th>HomePage</th>\n",
       "      <th>HomePage_Duration</th>\n",
       "      <th>LandingPage</th>\n",
       "      <th>LandingPage_Duration</th>\n",
       "      <th>ProductDescriptionPage</th>\n",
       "      <th>ProductDescriptionPage_Duration</th>\n",
       "      <th>GoogleMetric:Bounce Rates</th>\n",
       "      <th>GoogleMetric:Exit Rates</th>\n",
       "      <th>GoogleMetric:Page Values</th>\n",
       "      <th>SeasonalPurchase</th>\n",
       "      <th>...</th>\n",
       "      <th>Zone</th>\n",
       "      <th>Type of Traffic</th>\n",
       "      <th>WeekendPurchase</th>\n",
       "      <th>Month_SeasonalPurchase</th>\n",
       "      <th>CustomerType</th>\n",
       "      <th>Gender</th>\n",
       "      <th>Cookies Setting</th>\n",
       "      <th>Education</th>\n",
       "      <th>Marital Status</th>\n",
       "      <th>Made_Purchase</th>\n",
       "    </tr>\n",
       "  </thead>\n",
       "  <tbody>\n",
       "    <tr>\n",
       "      <th>0</th>\n",
       "      <td>0.0</td>\n",
       "      <td>0.0</td>\n",
       "      <td>0.0</td>\n",
       "      <td>0.0</td>\n",
       "      <td>1.0</td>\n",
       "      <td>0.000000</td>\n",
       "      <td>0.20</td>\n",
       "      <td>0.20</td>\n",
       "      <td>0.0</td>\n",
       "      <td>0.0</td>\n",
       "      <td>...</td>\n",
       "      <td>9.0</td>\n",
       "      <td>3.0</td>\n",
       "      <td>0.0</td>\n",
       "      <td>Feb</td>\n",
       "      <td>Returning_Visitor</td>\n",
       "      <td>Not Specified</td>\n",
       "      <td>Deny</td>\n",
       "      <td>Not Specified</td>\n",
       "      <td>Other</td>\n",
       "      <td>False</td>\n",
       "    </tr>\n",
       "    <tr>\n",
       "      <th>1</th>\n",
       "      <td>0.0</td>\n",
       "      <td>0.0</td>\n",
       "      <td>0.0</td>\n",
       "      <td>0.0</td>\n",
       "      <td>2.0</td>\n",
       "      <td>2.666667</td>\n",
       "      <td>0.05</td>\n",
       "      <td>0.14</td>\n",
       "      <td>0.0</td>\n",
       "      <td>0.0</td>\n",
       "      <td>...</td>\n",
       "      <td>2.0</td>\n",
       "      <td>4.0</td>\n",
       "      <td>0.0</td>\n",
       "      <td>Feb</td>\n",
       "      <td>Returning_Visitor</td>\n",
       "      <td>Female</td>\n",
       "      <td>Deny</td>\n",
       "      <td>Others</td>\n",
       "      <td>Married</td>\n",
       "      <td>False</td>\n",
       "    </tr>\n",
       "    <tr>\n",
       "      <th>2</th>\n",
       "      <td>0.0</td>\n",
       "      <td>0.0</td>\n",
       "      <td>0.0</td>\n",
       "      <td>0.0</td>\n",
       "      <td>10.0</td>\n",
       "      <td>627.500000</td>\n",
       "      <td>0.02</td>\n",
       "      <td>0.05</td>\n",
       "      <td>0.0</td>\n",
       "      <td>0.0</td>\n",
       "      <td>...</td>\n",
       "      <td>1.0</td>\n",
       "      <td>4.0</td>\n",
       "      <td>1.0</td>\n",
       "      <td>Feb</td>\n",
       "      <td>Returning_Visitor</td>\n",
       "      <td>Female</td>\n",
       "      <td>ALL</td>\n",
       "      <td>Others</td>\n",
       "      <td>Married</td>\n",
       "      <td>False</td>\n",
       "    </tr>\n",
       "    <tr>\n",
       "      <th>3</th>\n",
       "      <td>0.0</td>\n",
       "      <td>0.0</td>\n",
       "      <td>0.0</td>\n",
       "      <td>0.0</td>\n",
       "      <td>1.0</td>\n",
       "      <td>0.000000</td>\n",
       "      <td>0.20</td>\n",
       "      <td>0.20</td>\n",
       "      <td>0.0</td>\n",
       "      <td>0.4</td>\n",
       "      <td>...</td>\n",
       "      <td>3.0</td>\n",
       "      <td>3.0</td>\n",
       "      <td>0.0</td>\n",
       "      <td>Feb</td>\n",
       "      <td>Returning_Visitor</td>\n",
       "      <td>Male</td>\n",
       "      <td>ALL</td>\n",
       "      <td>Diploma</td>\n",
       "      <td>Single</td>\n",
       "      <td>False</td>\n",
       "    </tr>\n",
       "    <tr>\n",
       "      <th>4</th>\n",
       "      <td>1.0</td>\n",
       "      <td>0.0</td>\n",
       "      <td>0.0</td>\n",
       "      <td>0.0</td>\n",
       "      <td>0.0</td>\n",
       "      <td>0.000000</td>\n",
       "      <td>0.20</td>\n",
       "      <td>0.20</td>\n",
       "      <td>0.0</td>\n",
       "      <td>0.0</td>\n",
       "      <td>...</td>\n",
       "      <td>1.0</td>\n",
       "      <td>5.0</td>\n",
       "      <td>1.0</td>\n",
       "      <td>Feb</td>\n",
       "      <td>Returning_Visitor</td>\n",
       "      <td>Male</td>\n",
       "      <td>Deny</td>\n",
       "      <td>Diploma</td>\n",
       "      <td>Other</td>\n",
       "      <td>False</td>\n",
       "    </tr>\n",
       "  </tbody>\n",
       "</table>\n",
       "<p>5 rows × 22 columns</p>\n",
       "</div>"
      ],
      "text/plain": [
       "   HomePage  HomePage_Duration  LandingPage  LandingPage_Duration  \\\n",
       "0       0.0                0.0          0.0                   0.0   \n",
       "1       0.0                0.0          0.0                   0.0   \n",
       "2       0.0                0.0          0.0                   0.0   \n",
       "3       0.0                0.0          0.0                   0.0   \n",
       "4       1.0                0.0          0.0                   0.0   \n",
       "\n",
       "   ProductDescriptionPage  ProductDescriptionPage_Duration  \\\n",
       "0                     1.0                         0.000000   \n",
       "1                     2.0                         2.666667   \n",
       "2                    10.0                       627.500000   \n",
       "3                     1.0                         0.000000   \n",
       "4                     0.0                         0.000000   \n",
       "\n",
       "   GoogleMetric:Bounce Rates  GoogleMetric:Exit Rates  \\\n",
       "0                       0.20                     0.20   \n",
       "1                       0.05                     0.14   \n",
       "2                       0.02                     0.05   \n",
       "3                       0.20                     0.20   \n",
       "4                       0.20                     0.20   \n",
       "\n",
       "   GoogleMetric:Page Values  SeasonalPurchase  ...  Zone  Type of Traffic  \\\n",
       "0                       0.0               0.0  ...   9.0              3.0   \n",
       "1                       0.0               0.0  ...   2.0              4.0   \n",
       "2                       0.0               0.0  ...   1.0              4.0   \n",
       "3                       0.0               0.4  ...   3.0              3.0   \n",
       "4                       0.0               0.0  ...   1.0              5.0   \n",
       "\n",
       "   WeekendPurchase  Month_SeasonalPurchase       CustomerType         Gender  \\\n",
       "0              0.0                     Feb  Returning_Visitor  Not Specified   \n",
       "1              0.0                     Feb  Returning_Visitor         Female   \n",
       "2              1.0                     Feb  Returning_Visitor         Female   \n",
       "3              0.0                     Feb  Returning_Visitor           Male   \n",
       "4              1.0                     Feb  Returning_Visitor           Male   \n",
       "\n",
       "  Cookies Setting      Education Marital Status Made_Purchase  \n",
       "0            Deny  Not Specified          Other         False  \n",
       "1            Deny         Others        Married         False  \n",
       "2             ALL         Others        Married         False  \n",
       "3             ALL        Diploma         Single         False  \n",
       "4            Deny        Diploma          Other         False  \n",
       "\n",
       "[5 rows x 22 columns]"
      ]
     },
     "execution_count": 24,
     "metadata": {},
     "output_type": "execute_result"
    }
   ],
   "source": [
    "\n",
    "merged = pd.concat([imputed_numerical, imputed_categorical], axis=1)\n",
    "merged.head()\n"
   ]
  },
  {
   "cell_type": "code",
   "execution_count": 25,
   "id": "a99d3027",
   "metadata": {
    "execution": {
     "iopub.execute_input": "2023-03-25T08:41:41.189023Z",
     "iopub.status.busy": "2023-03-25T08:41:41.188652Z",
     "iopub.status.idle": "2023-03-25T08:41:41.194045Z",
     "shell.execute_reply": "2023-03-25T08:41:41.192934Z"
    },
    "papermill": {
     "duration": 0.020008,
     "end_time": "2023-03-25T08:41:41.195985",
     "exception": false,
     "start_time": "2023-03-25T08:41:41.175977",
     "status": "completed"
    },
    "tags": []
   },
   "outputs": [],
   "source": [
    "df=merged"
   ]
  },
  {
   "cell_type": "code",
   "execution_count": 26,
   "id": "c212006c",
   "metadata": {
    "execution": {
     "iopub.execute_input": "2023-03-25T08:41:41.220419Z",
     "iopub.status.busy": "2023-03-25T08:41:41.220071Z",
     "iopub.status.idle": "2023-03-25T08:41:41.231886Z",
     "shell.execute_reply": "2023-03-25T08:41:41.231010Z"
    },
    "papermill": {
     "duration": 0.026046,
     "end_time": "2023-03-25T08:41:41.233634",
     "exception": false,
     "start_time": "2023-03-25T08:41:41.207588",
     "status": "completed"
    },
    "tags": []
   },
   "outputs": [
    {
     "data": {
      "text/plain": [
       "0"
      ]
     },
     "execution_count": 26,
     "metadata": {},
     "output_type": "execute_result"
    }
   ],
   "source": [
    "df.isnull().sum().sum()"
   ]
  },
  {
   "cell_type": "code",
   "execution_count": 27,
   "id": "b5c4b09d",
   "metadata": {
    "execution": {
     "iopub.execute_input": "2023-03-25T08:41:41.258238Z",
     "iopub.status.busy": "2023-03-25T08:41:41.257898Z",
     "iopub.status.idle": "2023-03-25T08:41:41.284319Z",
     "shell.execute_reply": "2023-03-25T08:41:41.283250Z"
    },
    "papermill": {
     "duration": 0.041536,
     "end_time": "2023-03-25T08:41:41.286819",
     "exception": false,
     "start_time": "2023-03-25T08:41:41.245283",
     "status": "completed"
    },
    "tags": []
   },
   "outputs": [],
   "source": [
    "#One hot encoding for categorical data\n",
    "df = pd.get_dummies(df, columns = categorical.columns, drop_first = True)"
   ]
  },
  {
   "cell_type": "code",
   "execution_count": 28,
   "id": "a10dbbb0",
   "metadata": {
    "execution": {
     "iopub.execute_input": "2023-03-25T08:41:41.311275Z",
     "iopub.status.busy": "2023-03-25T08:41:41.310911Z",
     "iopub.status.idle": "2023-03-25T08:41:41.321069Z",
     "shell.execute_reply": "2023-03-25T08:41:41.319712Z"
    },
    "papermill": {
     "duration": 0.025003,
     "end_time": "2023-03-25T08:41:41.323529",
     "exception": false,
     "start_time": "2023-03-25T08:41:41.298526",
     "status": "completed"
    },
    "tags": []
   },
   "outputs": [
    {
     "name": "stdout",
     "output_type": "stream",
     "text": [
      "(14731, 35)\n",
      "(14731,)\n"
     ]
    }
   ],
   "source": [
    "X = df.drop(['Made_Purchase_True'], axis = 1)\n",
    "Y = df[\"Made_Purchase_True\"]\n",
    "print(X.shape)\n",
    "print(Y.shape)"
   ]
  },
  {
   "cell_type": "code",
   "execution_count": 29,
   "id": "a42cf93e",
   "metadata": {
    "execution": {
     "iopub.execute_input": "2023-03-25T08:41:41.348870Z",
     "iopub.status.busy": "2023-03-25T08:41:41.348533Z",
     "iopub.status.idle": "2023-03-25T08:41:41.355542Z",
     "shell.execute_reply": "2023-03-25T08:41:41.354285Z"
    },
    "papermill": {
     "duration": 0.02225,
     "end_time": "2023-03-25T08:41:41.357822",
     "exception": false,
     "start_time": "2023-03-25T08:41:41.335572",
     "status": "completed"
    },
    "tags": []
   },
   "outputs": [
    {
     "data": {
      "text/plain": [
       "'\\n#feature selection\\nfrom sklearn.feature_selection import SelectKBest\\nfrom sklearn.feature_selection import mutual_info_classif\\n\\nselector = SelectKBest(mutual_info_classif, k=12)\\nselector.fit(X, Y)\\nX_new = selector.transform(X)\\n'"
      ]
     },
     "execution_count": 29,
     "metadata": {},
     "output_type": "execute_result"
    }
   ],
   "source": [
    "'''\n",
    "#feature selection\n",
    "from sklearn.feature_selection import SelectKBest\n",
    "from sklearn.feature_selection import mutual_info_classif\n",
    "\n",
    "selector = SelectKBest(mutual_info_classif, k=12)\n",
    "selector.fit(X, Y)\n",
    "X_new = selector.transform(X)\n",
    "'''"
   ]
  },
  {
   "cell_type": "code",
   "execution_count": 30,
   "id": "93a59670",
   "metadata": {
    "execution": {
     "iopub.execute_input": "2023-03-25T08:41:41.383417Z",
     "iopub.status.busy": "2023-03-25T08:41:41.383063Z",
     "iopub.status.idle": "2023-03-25T08:41:41.388297Z",
     "shell.execute_reply": "2023-03-25T08:41:41.387341Z"
    },
    "papermill": {
     "duration": 0.020501,
     "end_time": "2023-03-25T08:41:41.390230",
     "exception": false,
     "start_time": "2023-03-25T08:41:41.369729",
     "status": "completed"
    },
    "tags": []
   },
   "outputs": [
    {
     "data": {
      "text/plain": [
       "'\\nX_new=pd.DataFrame(X_new)\\nX_new.info()\\n'"
      ]
     },
     "execution_count": 30,
     "metadata": {},
     "output_type": "execute_result"
    }
   ],
   "source": [
    "'''\n",
    "X_new=pd.DataFrame(X_new)\n",
    "X_new.info()\n",
    "'''"
   ]
  },
  {
   "cell_type": "code",
   "execution_count": 31,
   "id": "97c12336",
   "metadata": {
    "execution": {
     "iopub.execute_input": "2023-03-25T08:41:41.415814Z",
     "iopub.status.busy": "2023-03-25T08:41:41.415430Z",
     "iopub.status.idle": "2023-03-25T08:41:41.848828Z",
     "shell.execute_reply": "2023-03-25T08:41:41.848137Z"
    },
    "papermill": {
     "duration": 0.448497,
     "end_time": "2023-03-25T08:41:41.850745",
     "exception": false,
     "start_time": "2023-03-25T08:41:41.402248",
     "status": "completed"
    },
    "tags": []
   },
   "outputs": [
    {
     "data": {
      "image/png": "[encoded data removed]",
      "text/plain": [
       "<Figure size 432x288 with 2 Axes>"
      ]
     },
     "metadata": {
      "needs_background": "light"
     },
     "output_type": "display_data"
    }
   ],
   "source": [
    "#plot correlaation matrix with labels\n",
    "import seaborn as sns\n",
    "import matplotlib.pyplot as plt\n",
    "#creating a correlation matrix\n",
    "corr_matrix = df.corr()\n",
    "#plotting the correlation matrix using heatmap\n",
    "sns.heatmap(corr_matrix, annot=False)\n",
    "plt.show()"
   ]
  },
  {
   "cell_type": "code",
   "execution_count": 32,
   "id": "1c3bfa0f",
   "metadata": {
    "execution": {
     "iopub.execute_input": "2023-03-25T08:41:41.878974Z",
     "iopub.status.busy": "2023-03-25T08:41:41.877936Z",
     "iopub.status.idle": "2023-03-25T08:41:41.881653Z",
     "shell.execute_reply": "2023-03-25T08:41:41.881046Z"
    },
    "papermill": {
     "duration": 0.019657,
     "end_time": "2023-03-25T08:41:41.883394",
     "exception": false,
     "start_time": "2023-03-25T08:41:41.863737",
     "status": "completed"
    },
    "tags": []
   },
   "outputs": [],
   "source": [
    "#test train split\n",
    "#from sklearn.model_selection import train_test_split\n",
    "#X_train, X_test, Y_train, Y_test = train_test_split(X_new, Y, test_size=0.2, random_state=42)"
   ]
  },
  {
   "cell_type": "code",
   "execution_count": 33,
   "id": "3267f912",
   "metadata": {
    "execution": {
     "iopub.execute_input": "2023-03-25T08:41:41.911298Z",
     "iopub.status.busy": "2023-03-25T08:41:41.910468Z",
     "iopub.status.idle": "2023-03-25T08:41:41.927271Z",
     "shell.execute_reply": "2023-03-25T08:41:41.926282Z"
    },
    "papermill": {
     "duration": 0.033416,
     "end_time": "2023-03-25T08:41:41.929745",
     "exception": false,
     "start_time": "2023-03-25T08:41:41.896329",
     "status": "completed"
    },
    "tags": []
   },
   "outputs": [],
   "source": [
    "from sklearn.model_selection import StratifiedShuffleSplit\n",
    "\n",
    "# Create the stratified shuffle split object\n",
    "strat_split = StratifiedShuffleSplit(n_splits=1, test_size=0.2, random_state=42)\n",
    "\n",
    "# Split the data into train and test sets\n",
    "for train_index, test_index in strat_split.split(X, Y):\n",
    "    X_train, X_test = X.iloc[train_index], X.iloc[test_index]\n",
    "    Y_train, Y_test = Y.iloc[train_index], Y.iloc[test_index]"
   ]
  },
  {
   "cell_type": "code",
   "execution_count": 34,
   "id": "5a364864",
   "metadata": {
    "execution": {
     "iopub.execute_input": "2023-03-25T08:41:41.957129Z",
     "iopub.status.busy": "2023-03-25T08:41:41.956774Z",
     "iopub.status.idle": "2023-03-25T08:41:41.961908Z",
     "shell.execute_reply": "2023-03-25T08:41:41.961257Z"
    },
    "papermill": {
     "duration": 0.020545,
     "end_time": "2023-03-25T08:41:41.963490",
     "exception": false,
     "start_time": "2023-03-25T08:41:41.942945",
     "status": "completed"
    },
    "tags": []
   },
   "outputs": [
    {
     "data": {
      "text/plain": [
       "(11784, 35)"
      ]
     },
     "execution_count": 34,
     "metadata": {},
     "output_type": "execute_result"
    }
   ],
   "source": [
    "X_train.shape"
   ]
  },
  {
   "cell_type": "code",
   "execution_count": 35,
   "id": "6fb3ee25",
   "metadata": {
    "execution": {
     "iopub.execute_input": "2023-03-25T08:41:41.991099Z",
     "iopub.status.busy": "2023-03-25T08:41:41.989839Z",
     "iopub.status.idle": "2023-03-25T08:44:26.276874Z",
     "shell.execute_reply": "2023-03-25T08:44:26.275859Z"
    },
    "papermill": {
     "duration": 164.314684,
     "end_time": "2023-03-25T08:44:26.290844",
     "exception": false,
     "start_time": "2023-03-25T08:41:41.976160",
     "status": "completed"
    },
    "tags": []
   },
   "outputs": [
    {
     "name": "stdout",
     "output_type": "stream",
     "text": [
      "Ensemble accuracy: 0.6620291822192059\n"
     ]
    }
   ],
   "source": [
    "import pandas as pd\n",
    "import numpy as np\n",
    "from sklearn.model_selection import train_test_split, GridSearchCV\n",
    "from xgboost import XGBClassifier\n",
    "from sklearn.ensemble import RandomForestClassifier, GradientBoostingClassifier\n",
    "from sklearn.metrics import accuracy_score\n",
    "\n",
    "xgb = XGBClassifier(n_estimators=10, random_state=42)\n",
    "xgb.fit(X_train, Y_train)\n",
    "\n",
    "# Fit the Random Forest model with hyperparameter tuning\n",
    "rf = RandomForestClassifier(random_state=42)\n",
    "params = {'n_estimators': [50, 100, 200], 'max_depth': [5, 10, 20]}\n",
    "rf_grid = GridSearchCV(rf, param_grid=params, cv=5)\n",
    "rf_grid.fit(X_train, Y_train)\n",
    "\n",
    "# Fit the Gradient Boosting model with hyperparameter tuning\n",
    "gb = GradientBoostingClassifier(random_state=42)\n",
    "params = {'n_estimators': [50, 100, 200], 'learning_rate': [0.1, 0.01, 0.001]}\n",
    "gb_grid = GridSearchCV(gb, param_grid=params, cv=5)\n",
    "gb_grid.fit(X_train, Y_train)\n",
    "\n",
    "\n",
    "# Get the predictions from both models\n",
    "rf_preds = rf_grid.predict(X_test)\n",
    "gb_preds = gb_grid.predict(X_test)\n",
    "\n",
    "# Combine the predictions from both models using voting\n",
    "ensemble_preds = np.round((rf_preds + gb_preds) / 2).astype(int)\n",
    "\n",
    "# Calculate the accuracy of the ensemble model\n",
    "ensemble_accuracy = accuracy_score(Y_test, ensemble_preds)\n",
    "print('Ensemble accuracy:', ensemble_accuracy)"
   ]
  },
  {
   "cell_type": "code",
   "execution_count": 36,
   "id": "f1b2e154",
   "metadata": {
    "execution": {
     "iopub.execute_input": "2023-03-25T08:44:26.318717Z",
     "iopub.status.busy": "2023-03-25T08:44:26.318342Z",
     "iopub.status.idle": "2023-03-25T08:44:34.508199Z",
     "shell.execute_reply": "2023-03-25T08:44:34.507353Z"
    },
    "papermill": {
     "duration": 8.205773,
     "end_time": "2023-03-25T08:44:34.510148",
     "exception": false,
     "start_time": "2023-03-25T08:44:26.304375",
     "status": "completed"
    },
    "tags": []
   },
   "outputs": [
    {
     "name": "stderr",
     "output_type": "stream",
     "text": [
      "/opt/conda/lib/python3.7/site-packages/sklearn/model_selection/_search.py:296: UserWarning: The total space of parameters 2 is smaller than n_iter=10. Running 2 iterations. For exhaustive searches, use GridSearchCV.\n",
      "  UserWarning,\n"
     ]
    },
    {
     "data": {
      "text/plain": [
       "0.6260604004071938"
      ]
     },
     "execution_count": 36,
     "metadata": {},
     "output_type": "execute_result"
    }
   ],
   "source": [
    "from sklearn.linear_model import LogisticRegression\n",
    "from sklearn.model_selection import RandomizedSearchCV\n",
    "\n",
    "distributions = {'penalty': ['l1', 'l2'], }  #'C': [0.5, 1, 1.5, 2, 2.5, 3, 3.5, 4]\n",
    "lr = LogisticRegression(solver='saga', random_state=42, tol=0.01, max_iter=100)\n",
    "rsc = RandomizedSearchCV(lr, param_distributions=distributions, random_state=42)\n",
    "rsc.fit(X_train, Y_train)\n",
    "rsc.score(X_test,Y_test)"
   ]
  },
  {
   "cell_type": "code",
   "execution_count": 37,
   "id": "c1e9155f",
   "metadata": {
    "execution": {
     "iopub.execute_input": "2023-03-25T08:44:34.545164Z",
     "iopub.status.busy": "2023-03-25T08:44:34.544798Z",
     "iopub.status.idle": "2023-03-25T08:44:34.550543Z",
     "shell.execute_reply": "2023-03-25T08:44:34.549666Z"
    },
    "papermill": {
     "duration": 0.025782,
     "end_time": "2023-03-25T08:44:34.552676",
     "exception": false,
     "start_time": "2023-03-25T08:44:34.526894",
     "status": "completed"
    },
    "tags": []
   },
   "outputs": [
    {
     "data": {
      "text/plain": [
       "\"\\nfrom sklearn.ensemble import StackingClassifier  #\\n\\nstacking = StackingClassifier(estimators=[('lr', lr), ('rf', rf), ('xgb', xgb) ], final_estimator=LogisticRegression(random_state=42))\\nstacking.fit(X_train, Y_train)\\nstacking.score(X_test, Y_test)\\n\""
      ]
     },
     "execution_count": 37,
     "metadata": {},
     "output_type": "execute_result"
    }
   ],
   "source": [
    "'''\n",
    "from sklearn.ensemble import StackingClassifier  #\n",
    "\n",
    "stacking = StackingClassifier(estimators=[('lr', lr), ('rf', rf), ('xgb', xgb) ], final_estimator=LogisticRegression(random_state=42))\n",
    "stacking.fit(X_train, Y_train)\n",
    "stacking.score(X_test, Y_test)\n",
    "'''"
   ]
  },
  {
   "cell_type": "code",
   "execution_count": 38,
   "id": "faeba564",
   "metadata": {
    "execution": {
     "iopub.execute_input": "2023-03-25T08:44:34.587845Z",
     "iopub.status.busy": "2023-03-25T08:44:34.587487Z",
     "iopub.status.idle": "2023-03-25T08:44:34.593106Z",
     "shell.execute_reply": "2023-03-25T08:44:34.592233Z"
    },
    "papermill": {
     "duration": 0.025696,
     "end_time": "2023-03-25T08:44:34.595150",
     "exception": false,
     "start_time": "2023-03-25T08:44:34.569454",
     "status": "completed"
    },
    "tags": []
   },
   "outputs": [
    {
     "data": {
      "text/plain": [
       "\"\\nfrom sklearn.ensemble import StackingClassifier  #\\n\\nstacking = StackingClassifier(estimators=[('lr', lr), ('rf', rf), ('gb', gb_grid) ], final_estimator=rf_grid)\\nstacking.fit(X_train, Y_train)\\nstacking.score(X_test, Y_test)\\n\""
      ]
     },
     "execution_count": 38,
     "metadata": {},
     "output_type": "execute_result"
    }
   ],
   "source": [
    "'''\n",
    "from sklearn.ensemble import StackingClassifier  #\n",
    "\n",
    "stacking = StackingClassifier(estimators=[('lr', lr), ('rf', rf), ('gb', gb_grid) ], final_estimator=rf_grid)\n",
    "stacking.fit(X_train, Y_train)\n",
    "stacking.score(X_test, Y_test)\n",
    "'''"
   ]
  },
  {
   "cell_type": "code",
   "execution_count": 39,
   "id": "0d97a302",
   "metadata": {
    "execution": {
     "iopub.execute_input": "2023-03-25T08:44:34.629394Z",
     "iopub.status.busy": "2023-03-25T08:44:34.629051Z",
     "iopub.status.idle": "2023-03-25T08:44:34.634573Z",
     "shell.execute_reply": "2023-03-25T08:44:34.633751Z"
    },
    "papermill": {
     "duration": 0.023548,
     "end_time": "2023-03-25T08:44:34.636257",
     "exception": false,
     "start_time": "2023-03-25T08:44:34.612709",
     "status": "completed"
    },
    "tags": []
   },
   "outputs": [
    {
     "data": {
      "text/plain": [
       "\"\\nfrom sklearn.ensemble import StackingClassifier  #\\n\\nstacking = StackingClassifier(estimators=[('lr', lr), ('rf', rf), ('rf_grid', rf_grid),('xgb', xgb), ('gb_grid', gb_grid) ], final_estimator=rf_grid)\\nstacking.fit(X_train, Y_train)\\nstacking.score(X_test, Y_test)\\n\""
      ]
     },
     "execution_count": 39,
     "metadata": {},
     "output_type": "execute_result"
    }
   ],
   "source": [
    "'''\n",
    "from sklearn.ensemble import StackingClassifier  #\n",
    "\n",
    "stacking = StackingClassifier(estimators=[('lr', lr), ('rf', rf), ('rf_grid', rf_grid),('xgb', xgb), ('gb_grid', gb_grid) ], final_estimator=rf_grid)\n",
    "stacking.fit(X_train, Y_train)\n",
    "stacking.score(X_test, Y_test)\n",
    "'''"
   ]
  },
  {
   "cell_type": "code",
   "execution_count": 40,
   "id": "61ca9560",
   "metadata": {
    "execution": {
     "iopub.execute_input": "2023-03-25T08:44:34.664387Z",
     "iopub.status.busy": "2023-03-25T08:44:34.663794Z",
     "iopub.status.idle": "2023-03-25T08:44:34.669323Z",
     "shell.execute_reply": "2023-03-25T08:44:34.668415Z"
    },
    "papermill": {
     "duration": 0.02182,
     "end_time": "2023-03-25T08:44:34.671152",
     "exception": false,
     "start_time": "2023-03-25T08:44:34.649332",
     "status": "completed"
    },
    "tags": []
   },
   "outputs": [
    {
     "data": {
      "text/plain": [
       "\"\\nfrom sklearn.ensemble import StackingClassifier  #\\n\\nstacking = StackingClassifier(estimators=[('lr', lr), ('rf', rf), ('rf_grid', rf_grid), ('gb_grid', gb_grid) ,('xgb', xgb) ], final_estimator=rf_grid)\\nstacking.fit(X_train, Y_train)\\nstacking.score(X_test, Y_test)\\n\""
      ]
     },
     "execution_count": 40,
     "metadata": {},
     "output_type": "execute_result"
    }
   ],
   "source": [
    "'''\n",
    "from sklearn.ensemble import StackingClassifier  #\n",
    "\n",
    "stacking = StackingClassifier(estimators=[('lr', lr), ('rf', rf), ('rf_grid', rf_grid), ('gb_grid', gb_grid) ,('xgb', xgb) ], final_estimator=rf_grid)\n",
    "stacking.fit(X_train, Y_train)\n",
    "stacking.score(X_test, Y_test)\n",
    "'''"
   ]
  },
  {
   "cell_type": "code",
   "execution_count": 41,
   "id": "f9e8c242",
   "metadata": {
    "execution": {
     "iopub.execute_input": "2023-03-25T08:44:34.699543Z",
     "iopub.status.busy": "2023-03-25T08:44:34.698890Z",
     "iopub.status.idle": "2023-03-25T08:59:47.702322Z",
     "shell.execute_reply": "2023-03-25T08:59:47.701235Z"
    },
    "papermill": {
     "duration": 913.025342,
     "end_time": "2023-03-25T08:59:47.709689",
     "exception": false,
     "start_time": "2023-03-25T08:44:34.684347",
     "status": "completed"
    },
    "tags": []
   },
   "outputs": [
    {
     "data": {
      "text/plain": [
       "0.7631489650492026"
      ]
     },
     "execution_count": 41,
     "metadata": {},
     "output_type": "execute_result"
    }
   ],
   "source": [
    "from sklearn.ensemble import StackingClassifier  #\n",
    "\n",
    "stacking = StackingClassifier(estimators=[('lr', lr), ('rf', rf), ('rf_grid', rf_grid), ('gb_grid', gb_grid) ,('xgb', xgb) ], final_estimator=rf_grid)\n",
    "stacking.fit(X_train, Y_train)\n",
    "stacking.score(X_test, Y_test)\n",
    "#0.7577197149643705\n",
    "#0.76 - without cv\n",
    "#0.7631489650492026 with new imputation strategy"
   ]
  },
  {
   "cell_type": "code",
   "execution_count": 42,
   "id": "36422859",
   "metadata": {
    "execution": {
     "iopub.execute_input": "2023-03-25T08:59:47.738350Z",
     "iopub.status.busy": "2023-03-25T08:59:47.737944Z",
     "iopub.status.idle": "2023-03-25T08:59:47.783113Z",
     "shell.execute_reply": "2023-03-25T08:59:47.782143Z"
    },
    "papermill": {
     "duration": 0.062469,
     "end_time": "2023-03-25T08:59:47.785510",
     "exception": false,
     "start_time": "2023-03-25T08:59:47.723041",
     "status": "completed"
    },
    "tags": []
   },
   "outputs": [
    {
     "data": {
      "text/plain": [
       "\"\\ndf_test.interpolate(method='polynomial',order=9, inplace=True)\\nprint(df_test.isnull().sum().sum())\\n#dividing the data into numerical and categorical\\nnumerical = df_test.select_dtypes(include = np.number)\\ncategorical = df_test.select_dtypes(exclude = np.number)\\n#One hot encoding for categorical data\\ndf_test = pd.get_dummies(df_test, columns = categorical.columns, drop_first = True)\\n\""
      ]
     },
     "execution_count": 42,
     "metadata": {},
     "output_type": "execute_result"
    }
   ],
   "source": [
    "df_test = pd.read_csv(\"/kaggle/input/e-commerce-shoppers-behaviour-understanding/test_data_v2.csv\")\n",
    "# Handle missing values using interpolation\n",
    "'''\n",
    "df_test.interpolate(method='polynomial',order=9, inplace=True)\n",
    "print(df_test.isnull().sum().sum())\n",
    "#dividing the data into numerical and categorical\n",
    "numerical = df_test.select_dtypes(include = np.number)\n",
    "categorical = df_test.select_dtypes(exclude = np.number)\n",
    "#One hot encoding for categorical data\n",
    "df_test = pd.get_dummies(df_test, columns = categorical.columns, drop_first = True)\n",
    "'''"
   ]
  },
  {
   "cell_type": "code",
   "execution_count": 43,
   "id": "4e3c5493",
   "metadata": {
    "execution": {
     "iopub.execute_input": "2023-03-25T08:59:47.814764Z",
     "iopub.status.busy": "2023-03-25T08:59:47.814393Z",
     "iopub.status.idle": "2023-03-25T08:59:47.821677Z",
     "shell.execute_reply": "2023-03-25T08:59:47.821028Z"
    },
    "papermill": {
     "duration": 0.024029,
     "end_time": "2023-03-25T08:59:47.823236",
     "exception": false,
     "start_time": "2023-03-25T08:59:47.799207",
     "status": "completed"
    },
    "tags": []
   },
   "outputs": [
    {
     "name": "stdout",
     "output_type": "stream",
     "text": [
      "1\n"
     ]
    }
   ],
   "source": [
    "#dividing the data into numerical and categorical\n",
    "numericalt = df_test.select_dtypes(include = np.number)\n",
    "categoricalt = df_test.select_dtypes(exclude = np.number)\n",
    "print('1')"
   ]
  },
  {
   "cell_type": "code",
   "execution_count": 44,
   "id": "a2121ce7",
   "metadata": {
    "execution": {
     "iopub.execute_input": "2023-03-25T08:59:47.851480Z",
     "iopub.status.busy": "2023-03-25T08:59:47.851130Z",
     "iopub.status.idle": "2023-03-25T08:59:47.869876Z",
     "shell.execute_reply": "2023-03-25T08:59:47.868936Z"
    },
    "papermill": {
     "duration": 0.035099,
     "end_time": "2023-03-25T08:59:47.871685",
     "exception": false,
     "start_time": "2023-03-25T08:59:47.836586",
     "status": "completed"
    },
    "tags": []
   },
   "outputs": [
    {
     "name": "stdout",
     "output_type": "stream",
     "text": [
      "1\n"
     ]
    }
   ],
   "source": [
    "\n",
    "##trying interpolation\n",
    "#numerical simple imputer\n",
    "from sklearn.impute import SimpleImputer\n",
    "imputer = SimpleImputer(strategy='mean')\n",
    "imputer.fit(numericalt)\n",
    "imputed_numericalt = imputer.transform(numericalt)\n",
    "imputed_numericalt = pd.DataFrame(imputed_numericalt, columns=numericalt.columns)\n",
    "\n",
    "#categorical imputer\n",
    "from sklearn.impute import SimpleImputer\n",
    "imputer = SimpleImputer(strategy='most_frequent')\n",
    "imputer.fit(categoricalt)\n",
    "imputed_categoricalt = imputer.transform(categoricalt)\n",
    "imputed_categoricalt = pd.DataFrame(imputed_categoricalt, columns=categoricalt.columns)\n",
    "print('1')"
   ]
  },
  {
   "cell_type": "code",
   "execution_count": 45,
   "id": "7e0d38e9",
   "metadata": {
    "execution": {
     "iopub.execute_input": "2023-03-25T08:59:47.900299Z",
     "iopub.status.busy": "2023-03-25T08:59:47.899919Z",
     "iopub.status.idle": "2023-03-25T08:59:47.923948Z",
     "shell.execute_reply": "2023-03-25T08:59:47.923235Z"
    },
    "papermill": {
     "duration": 0.040484,
     "end_time": "2023-03-25T08:59:47.925760",
     "exception": false,
     "start_time": "2023-03-25T08:59:47.885276",
     "status": "completed"
    },
    "tags": []
   },
   "outputs": [
    {
     "data": {
      "text/html": [
       "<div>\n",
       "<style scoped>\n",
       "    .dataframe tbody tr th:only-of-type {\n",
       "        vertical-align: middle;\n",
       "    }\n",
       "\n",
       "    .dataframe tbody tr th {\n",
       "        vertical-align: top;\n",
       "    }\n",
       "\n",
       "    .dataframe thead th {\n",
       "        text-align: right;\n",
       "    }\n",
       "</style>\n",
       "<table border=\"1\" class=\"dataframe\">\n",
       "  <thead>\n",
       "    <tr style=\"text-align: right;\">\n",
       "      <th></th>\n",
       "      <th>HomePage</th>\n",
       "      <th>HomePage_Duration</th>\n",
       "      <th>LandingPage</th>\n",
       "      <th>LandingPage_Duration</th>\n",
       "      <th>ProductDescriptionPage</th>\n",
       "      <th>ProductDescriptionPage_Duration</th>\n",
       "      <th>GoogleMetric:Bounce Rates</th>\n",
       "      <th>GoogleMetric:Exit Rates</th>\n",
       "      <th>GoogleMetric:Page Values</th>\n",
       "      <th>SeasonalPurchase</th>\n",
       "      <th>...</th>\n",
       "      <th>SearchEngine</th>\n",
       "      <th>Zone</th>\n",
       "      <th>Type of Traffic</th>\n",
       "      <th>WeekendPurchase</th>\n",
       "      <th>Month_SeasonalPurchase</th>\n",
       "      <th>CustomerType</th>\n",
       "      <th>Gender</th>\n",
       "      <th>Cookies Setting</th>\n",
       "      <th>Education</th>\n",
       "      <th>Marital Status</th>\n",
       "    </tr>\n",
       "  </thead>\n",
       "  <tbody>\n",
       "    <tr>\n",
       "      <th>0</th>\n",
       "      <td>0.0</td>\n",
       "      <td>0.0</td>\n",
       "      <td>0.0</td>\n",
       "      <td>0.0</td>\n",
       "      <td>1.0</td>\n",
       "      <td>0.000000</td>\n",
       "      <td>0.200000</td>\n",
       "      <td>0.200000</td>\n",
       "      <td>0.0</td>\n",
       "      <td>0.0</td>\n",
       "      <td>...</td>\n",
       "      <td>1.0</td>\n",
       "      <td>1.0</td>\n",
       "      <td>1.0</td>\n",
       "      <td>0.0</td>\n",
       "      <td>Feb</td>\n",
       "      <td>Returning_Visitor</td>\n",
       "      <td>Not Specified</td>\n",
       "      <td>Deny</td>\n",
       "      <td>Not Specified</td>\n",
       "      <td>Single</td>\n",
       "    </tr>\n",
       "    <tr>\n",
       "      <th>1</th>\n",
       "      <td>0.0</td>\n",
       "      <td>0.0</td>\n",
       "      <td>0.0</td>\n",
       "      <td>0.0</td>\n",
       "      <td>2.0</td>\n",
       "      <td>64.000000</td>\n",
       "      <td>0.000000</td>\n",
       "      <td>0.100000</td>\n",
       "      <td>0.0</td>\n",
       "      <td>0.0</td>\n",
       "      <td>...</td>\n",
       "      <td>2.0</td>\n",
       "      <td>1.0</td>\n",
       "      <td>2.0</td>\n",
       "      <td>0.0</td>\n",
       "      <td>Feb</td>\n",
       "      <td>Returning_Visitor</td>\n",
       "      <td>Not Specified</td>\n",
       "      <td>ALL</td>\n",
       "      <td>Graduate</td>\n",
       "      <td>Married</td>\n",
       "    </tr>\n",
       "    <tr>\n",
       "      <th>2</th>\n",
       "      <td>0.0</td>\n",
       "      <td>0.0</td>\n",
       "      <td>0.0</td>\n",
       "      <td>0.0</td>\n",
       "      <td>19.0</td>\n",
       "      <td>154.216667</td>\n",
       "      <td>0.015789</td>\n",
       "      <td>0.024561</td>\n",
       "      <td>0.0</td>\n",
       "      <td>0.0</td>\n",
       "      <td>...</td>\n",
       "      <td>2.0</td>\n",
       "      <td>1.0</td>\n",
       "      <td>3.0</td>\n",
       "      <td>0.0</td>\n",
       "      <td>Feb</td>\n",
       "      <td>Returning_Visitor</td>\n",
       "      <td>Female</td>\n",
       "      <td>Required</td>\n",
       "      <td>Diploma</td>\n",
       "      <td>Other</td>\n",
       "    </tr>\n",
       "    <tr>\n",
       "      <th>3</th>\n",
       "      <td>0.0</td>\n",
       "      <td>0.0</td>\n",
       "      <td>0.0</td>\n",
       "      <td>0.0</td>\n",
       "      <td>2.0</td>\n",
       "      <td>37.000000</td>\n",
       "      <td>0.000000</td>\n",
       "      <td>0.100000</td>\n",
       "      <td>0.0</td>\n",
       "      <td>0.8</td>\n",
       "      <td>...</td>\n",
       "      <td>2.0</td>\n",
       "      <td>2.0</td>\n",
       "      <td>3.0</td>\n",
       "      <td>0.0</td>\n",
       "      <td>Feb</td>\n",
       "      <td>Returning_Visitor</td>\n",
       "      <td>Not Specified</td>\n",
       "      <td>Required</td>\n",
       "      <td>Graduate</td>\n",
       "      <td>Other</td>\n",
       "    </tr>\n",
       "    <tr>\n",
       "      <th>4</th>\n",
       "      <td>0.0</td>\n",
       "      <td>0.0</td>\n",
       "      <td>0.0</td>\n",
       "      <td>0.0</td>\n",
       "      <td>16.0</td>\n",
       "      <td>407.750000</td>\n",
       "      <td>0.018750</td>\n",
       "      <td>0.025833</td>\n",
       "      <td>0.0</td>\n",
       "      <td>0.4</td>\n",
       "      <td>...</td>\n",
       "      <td>1.0</td>\n",
       "      <td>4.0</td>\n",
       "      <td>3.0</td>\n",
       "      <td>0.0</td>\n",
       "      <td>Feb</td>\n",
       "      <td>Returning_Visitor</td>\n",
       "      <td>Female</td>\n",
       "      <td>Deny</td>\n",
       "      <td>Others</td>\n",
       "      <td>Other</td>\n",
       "    </tr>\n",
       "  </tbody>\n",
       "</table>\n",
       "<p>5 rows × 21 columns</p>\n",
       "</div>"
      ],
      "text/plain": [
       "   HomePage  HomePage_Duration  LandingPage  LandingPage_Duration  \\\n",
       "0       0.0                0.0          0.0                   0.0   \n",
       "1       0.0                0.0          0.0                   0.0   \n",
       "2       0.0                0.0          0.0                   0.0   \n",
       "3       0.0                0.0          0.0                   0.0   \n",
       "4       0.0                0.0          0.0                   0.0   \n",
       "\n",
       "   ProductDescriptionPage  ProductDescriptionPage_Duration  \\\n",
       "0                     1.0                         0.000000   \n",
       "1                     2.0                        64.000000   \n",
       "2                    19.0                       154.216667   \n",
       "3                     2.0                        37.000000   \n",
       "4                    16.0                       407.750000   \n",
       "\n",
       "   GoogleMetric:Bounce Rates  GoogleMetric:Exit Rates  \\\n",
       "0                   0.200000                 0.200000   \n",
       "1                   0.000000                 0.100000   \n",
       "2                   0.015789                 0.024561   \n",
       "3                   0.000000                 0.100000   \n",
       "4                   0.018750                 0.025833   \n",
       "\n",
       "   GoogleMetric:Page Values  SeasonalPurchase  ...  SearchEngine  Zone  \\\n",
       "0                       0.0               0.0  ...           1.0   1.0   \n",
       "1                       0.0               0.0  ...           2.0   1.0   \n",
       "2                       0.0               0.0  ...           2.0   1.0   \n",
       "3                       0.0               0.8  ...           2.0   2.0   \n",
       "4                       0.0               0.4  ...           1.0   4.0   \n",
       "\n",
       "   Type of Traffic  WeekendPurchase  Month_SeasonalPurchase  \\\n",
       "0              1.0              0.0                     Feb   \n",
       "1              2.0              0.0                     Feb   \n",
       "2              3.0              0.0                     Feb   \n",
       "3              3.0              0.0                     Feb   \n",
       "4              3.0              0.0                     Feb   \n",
       "\n",
       "        CustomerType         Gender Cookies Setting      Education  \\\n",
       "0  Returning_Visitor  Not Specified            Deny  Not Specified   \n",
       "1  Returning_Visitor  Not Specified             ALL       Graduate   \n",
       "2  Returning_Visitor         Female        Required        Diploma   \n",
       "3  Returning_Visitor  Not Specified        Required       Graduate   \n",
       "4  Returning_Visitor         Female            Deny         Others   \n",
       "\n",
       "  Marital Status  \n",
       "0         Single  \n",
       "1        Married  \n",
       "2          Other  \n",
       "3          Other  \n",
       "4          Other  \n",
       "\n",
       "[5 rows x 21 columns]"
      ]
     },
     "execution_count": 45,
     "metadata": {},
     "output_type": "execute_result"
    }
   ],
   "source": [
    "\n",
    "mergedt = pd.concat([imputed_numericalt, imputed_categoricalt], axis=1)\n",
    "mergedt.head()\n"
   ]
  },
  {
   "cell_type": "code",
   "execution_count": 46,
   "id": "a8568dc6",
   "metadata": {
    "execution": {
     "iopub.execute_input": "2023-03-25T08:59:47.955615Z",
     "iopub.status.busy": "2023-03-25T08:59:47.954490Z",
     "iopub.status.idle": "2023-03-25T08:59:47.960090Z",
     "shell.execute_reply": "2023-03-25T08:59:47.958803Z"
    },
    "papermill": {
     "duration": 0.022993,
     "end_time": "2023-03-25T08:59:47.962513",
     "exception": false,
     "start_time": "2023-03-25T08:59:47.939520",
     "status": "completed"
    },
    "tags": []
   },
   "outputs": [
    {
     "name": "stdout",
     "output_type": "stream",
     "text": [
      "1\n"
     ]
    }
   ],
   "source": [
    "df_test = mergedt\n",
    "print('1')"
   ]
  },
  {
   "cell_type": "code",
   "execution_count": 47,
   "id": "8ae3714f",
   "metadata": {
    "execution": {
     "iopub.execute_input": "2023-03-25T08:59:47.992575Z",
     "iopub.status.busy": "2023-03-25T08:59:47.992056Z",
     "iopub.status.idle": "2023-03-25T08:59:48.005918Z",
     "shell.execute_reply": "2023-03-25T08:59:48.005130Z"
    },
    "papermill": {
     "duration": 0.030913,
     "end_time": "2023-03-25T08:59:48.007637",
     "exception": false,
     "start_time": "2023-03-25T08:59:47.976724",
     "status": "completed"
    },
    "tags": []
   },
   "outputs": [
    {
     "name": "stdout",
     "output_type": "stream",
     "text": [
      "1\n"
     ]
    }
   ],
   "source": [
    "\n",
    "#One hot encoding for categorical data\n",
    "df_test = pd.get_dummies(df_test, columns = categoricalt.columns, drop_first = True)\n",
    "print('1')"
   ]
  },
  {
   "cell_type": "code",
   "execution_count": 48,
   "id": "e3dc356a",
   "metadata": {
    "execution": {
     "iopub.execute_input": "2023-03-25T08:59:48.042906Z",
     "iopub.status.busy": "2023-03-25T08:59:48.041833Z",
     "iopub.status.idle": "2023-03-25T08:59:48.049448Z",
     "shell.execute_reply": "2023-03-25T08:59:48.048840Z"
    },
    "papermill": {
     "duration": 0.030072,
     "end_time": "2023-03-25T08:59:48.051415",
     "exception": false,
     "start_time": "2023-03-25T08:59:48.021343",
     "status": "completed"
    },
    "tags": []
   },
   "outputs": [
    {
     "name": "stdout",
     "output_type": "stream",
     "text": [
      "0\n"
     ]
    }
   ],
   "source": [
    "print(df_test.isnull().sum().sum())"
   ]
  },
  {
   "cell_type": "code",
   "execution_count": 49,
   "id": "735a99cb",
   "metadata": {
    "execution": {
     "iopub.execute_input": "2023-03-25T08:59:48.089731Z",
     "iopub.status.busy": "2023-03-25T08:59:48.088985Z",
     "iopub.status.idle": "2023-03-25T08:59:48.342201Z",
     "shell.execute_reply": "2023-03-25T08:59:48.341087Z"
    },
    "papermill": {
     "duration": 0.273109,
     "end_time": "2023-03-25T08:59:48.344308",
     "exception": false,
     "start_time": "2023-03-25T08:59:48.071199",
     "status": "completed"
    },
    "tags": []
   },
   "outputs": [],
   "source": [
    "prediction = stacking.predict(df_test)"
   ]
  },
  {
   "cell_type": "code",
   "execution_count": 50,
   "id": "26270829",
   "metadata": {
    "execution": {
     "iopub.execute_input": "2023-03-25T08:59:48.373508Z",
     "iopub.status.busy": "2023-03-25T08:59:48.373185Z",
     "iopub.status.idle": "2023-03-25T08:59:48.377604Z",
     "shell.execute_reply": "2023-03-25T08:59:48.376566Z"
    },
    "papermill": {
     "duration": 0.02142,
     "end_time": "2023-03-25T08:59:48.379611",
     "exception": false,
     "start_time": "2023-03-25T08:59:48.358191",
     "status": "completed"
    },
    "tags": []
   },
   "outputs": [],
   "source": [
    "#prediction = model.predict(df_test_new)"
   ]
  },
  {
   "cell_type": "code",
   "execution_count": 51,
   "id": "9c989cb5",
   "metadata": {
    "execution": {
     "iopub.execute_input": "2023-03-25T08:59:48.409028Z",
     "iopub.status.busy": "2023-03-25T08:59:48.408478Z",
     "iopub.status.idle": "2023-03-25T08:59:48.412987Z",
     "shell.execute_reply": "2023-03-25T08:59:48.411873Z"
    },
    "papermill": {
     "duration": 0.022352,
     "end_time": "2023-03-25T08:59:48.415870",
     "exception": false,
     "start_time": "2023-03-25T08:59:48.393518",
     "status": "completed"
    },
    "tags": []
   },
   "outputs": [
    {
     "name": "stderr",
     "output_type": "stream",
     "text": [
      "/opt/conda/lib/python3.7/site-packages/ipykernel_launcher.py:1: DeprecationWarning: `np.bool` is a deprecated alias for the builtin `bool`. To silence this warning, use `bool` by itself. Doing this will not modify any behavior and is safe. If you specifically wanted the numpy scalar type, use `np.bool_` here.\n",
      "Deprecated in NumPy 1.20; for more details and guidance: https://numpy.org/devdocs/release/1.20.0-notes.html#deprecations\n",
      "  \"\"\"Entry point for launching an IPython kernel.\n"
     ]
    }
   ],
   "source": [
    "prediction=prediction.astype(np.bool)"
   ]
  },
  {
   "cell_type": "code",
   "execution_count": 52,
   "id": "004d153d",
   "metadata": {
    "execution": {
     "iopub.execute_input": "2023-03-25T08:59:48.446510Z",
     "iopub.status.busy": "2023-03-25T08:59:48.445863Z",
     "iopub.status.idle": "2023-03-25T08:59:48.453081Z",
     "shell.execute_reply": "2023-03-25T08:59:48.451762Z"
    },
    "papermill": {
     "duration": 0.024546,
     "end_time": "2023-03-25T08:59:48.455078",
     "exception": false,
     "start_time": "2023-03-25T08:59:48.430532",
     "status": "completed"
    },
    "tags": []
   },
   "outputs": [
    {
     "data": {
      "text/plain": [
       "array([False, False, False, ..., False,  True,  True])"
      ]
     },
     "execution_count": 52,
     "metadata": {},
     "output_type": "execute_result"
    }
   ],
   "source": [
    "prediction"
   ]
  },
  {
   "cell_type": "code",
   "execution_count": 53,
   "id": "edfe35dc",
   "metadata": {
    "execution": {
     "iopub.execute_input": "2023-03-25T08:59:48.484945Z",
     "iopub.status.busy": "2023-03-25T08:59:48.484570Z",
     "iopub.status.idle": "2023-03-25T08:59:48.507278Z",
     "shell.execute_reply": "2023-03-25T08:59:48.505985Z"
    },
    "papermill": {
     "duration": 0.040507,
     "end_time": "2023-03-25T08:59:48.509752",
     "exception": false,
     "start_time": "2023-03-25T08:59:48.469245",
     "status": "completed"
    },
    "tags": []
   },
   "outputs": [
    {
     "name": "stdout",
     "output_type": "stream",
     "text": [
      "1\n"
     ]
    }
   ],
   "source": [
    "submission = pd.DataFrame(columns = ['id','Made_Purchase'])\n",
    "submission['id']=[i for i in range(len(prediction))]\n",
    "submission['Made_Purchase'] = prediction\n",
    "submission.to_csv('submission.csv', index= False)\n",
    "print(\"1\")"
   ]
  },
  {
   "cell_type": "code",
   "execution_count": null,
   "id": "caec6af4",
   "metadata": {
    "papermill": {
     "duration": 0.013696,
     "end_time": "2023-03-25T08:59:48.538520",
     "exception": false,
     "start_time": "2023-03-25T08:59:48.524824",
     "status": "completed"
    },
    "tags": []
   },
   "outputs": [],
   "source": []
  }
 ],
 "metadata": {
  "kernelspec": {
   "display_name": "Python 3",
   "language": "python",
   "name": "python3"
  },
  "language_info": {
   "codemirror_mode": {
    "name": "ipython",
    "version": 3
   },
   "file_extension": ".py",
   "mimetype": "text/x-python",
   "name": "python",
   "nbconvert_exporter": "python",
   "pygments_lexer": "ipython3",
   "version": "3.7.12"
  },
  "papermill": {
   "default_parameters": {},
   "duration": 1098.770921,
   "end_time": "2023-03-25T08:59:49.276028",
   "environment_variables": {},
   "exception": null,
   "input_path": "__notebook__.ipynb",
   "output_path": "__notebook__.ipynb",
   "parameters": {},
   "start_time": "2023-03-25T08:41:30.505107",
   "version": "2.3.4"
  }
 },
 "nbformat": 4,
 "nbformat_minor": 5
}
